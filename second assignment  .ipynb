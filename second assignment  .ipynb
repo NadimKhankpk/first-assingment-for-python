{
 "cells": [
  {
   "cell_type": "code",
   "execution_count": 5,
   "metadata": {},
   "outputs": [
    {
     "name": "stdout",
     "output_type": "stream",
     "text": [
      "enter marks for subject1  90\n",
      "enter marks for subject2   90\n",
      "enter marks for subject3  90\n",
      "enter marks for subject4  89\n",
      "enter marks for subject5   89\n",
      "\n",
      "\n",
      "\n",
      "\n",
      "   marks in subject 1 is :      90\n",
      "\n",
      "\n",
      "   marks in subject 2 is :      90\n",
      "\n",
      "\n",
      "   marks in subject 3 is :      90\n",
      "\n",
      "\n",
      "   marks in subject 4 is :      89\n",
      "\n",
      "\n",
      "   marks in subject 5 is :      89\n",
      "\n",
      "\n",
      "   your total mrks is    :      448\n",
      "\n",
      "\n",
      "   your percentage is is :      89.60000000000001\n",
      "your grade is        :         A+\n"
     ]
    }
   ],
   "source": [
    "# QUESTION 1\n",
    "sub1= int(input(\"enter marks for subject1  \"))\n",
    "sub2= int(input(\"enter marks for subject2   \"))\n",
    "sub3= int(input(\"enter marks for subject3  \"))\n",
    "sub4= int(input(\"enter marks for subject4  \"))\n",
    "sub5= int(input(\"enter marks for subject5   \"))\n",
    "total= sub1+sub2+sub3+sub4+sub5\n",
    "per=(total/500)*100\n",
    "print(\"\\n\")\n",
    "print(\"\\n\")\n",
    "\n",
    "print(\"   marks in subject 1 is :     \" ,sub1)\n",
    "print(\"\\n\")\n",
    "print(\"   marks in subject 2 is :     \" ,sub2)\n",
    "print(\"\\n\")\n",
    "print(\"   marks in subject 3 is :     \" ,sub3)\n",
    "print(\"\\n\")\n",
    "print(\"   marks in subject 4 is :     \" ,sub4)\n",
    "print(\"\\n\")\n",
    "print(\"   marks in subject 5 is :     \" ,sub5)\n",
    "print(\"\\n\")\n",
    "print(\"   your total mrks is    :     \",total)\n",
    "print(\"\\n\")\n",
    "print(\"   your percentage is is :     \",per)\n",
    "if per >= 80 and per <100 :\n",
    "    print(\"your grade is        :         A+\")\n",
    "elif per>=70 and per <80 :\n",
    "    print(\"your grade is        :         A\")\n",
    "elif per>=60 and per<70 :\n",
    "        print(\"your grade is        :         B\")\n",
    "elif per>=50 and per<60  :\n",
    "        print(\"your grade is        :         C\")\n",
    "elif per>=0 and per<50   :\n",
    "    print(\" you are                  :        FAIL\")\n",
    "else: (\" you enter invalid input \")    \n"
   ]
  },
  {
   "cell_type": "code",
   "execution_count": 6,
   "metadata": {},
   "outputs": [
    {
     "name": "stdout",
     "output_type": "stream",
     "text": [
      "enter the number 7\n",
      " this is odd number \n"
     ]
    }
   ],
   "source": [
    "# QUESTION NUMBER 2\n",
    "num=int(input(\"enter the number \"))\n",
    "mod= num% 2\n",
    "if mod>0 :\n",
    "    print(\" this is odd number \")\n",
    "else :\n",
    "    print(\" this is even number \")\n"
   ]
  },
  {
   "cell_type": "code",
   "execution_count": 25,
   "metadata": {},
   "outputs": [
    {
     "name": "stdout",
     "output_type": "stream",
     "text": [
      "the lenth of list is: 6\n"
     ]
    }
   ],
   "source": [
    "#QUESTION 3\n",
    "a = ['a','b','c',1,2,3]\n",
    "print('the lenth of list is:',len(a))"
   ]
  },
  {
   "cell_type": "code",
   "execution_count": 29,
   "metadata": {},
   "outputs": [
    {
     "name": "stdout",
     "output_type": "stream",
     "text": [
      "[10, 20, 30, 24, 26]\n",
      "total sum of the list is  : 110\n"
     ]
    }
   ],
   "source": [
    "#QUESTION 4\n",
    "abc = [10,20,30,24,26]\n",
    "print(abc)\n",
    "total=abc[0]+abc[1]+abc[2]+abc[3]+abc[4]\n",
    "print(\"total sum of the list is  :\",total)"
   ]
  },
  {
   "cell_type": "code",
   "execution_count": 31,
   "metadata": {},
   "outputs": [
    {
     "name": "stdout",
     "output_type": "stream",
     "text": [
      "the largest number is   :   86\n"
     ]
    }
   ],
   "source": [
    "#QUESTION 5\n",
    "new = [10,20,30,24,26,56,45,86]\n",
    "print(\"the largest number is   :  \",max(new))"
   ]
  },
  {
   "cell_type": "code",
   "execution_count": 61,
   "metadata": {},
   "outputs": [
    {
     "name": "stdout",
     "output_type": "stream",
     "text": [
      "2\n",
      "4\n",
      "2\n",
      "0\n"
     ]
    }
   ],
   "source": [
    "new = [10,2,30,4,26,56,45,86,2,23,46,0]\n",
    "for i in new:\n",
    "    if i<5:\n",
    "        print(i)\n"
   ]
  },
  {
   "cell_type": "code",
   "execution_count": null,
   "metadata": {},
   "outputs": [],
   "source": []
  }
 ],
 "metadata": {
  "kernelspec": {
   "display_name": "Python 3",
   "language": "python",
   "name": "python3"
  },
  "language_info": {
   "codemirror_mode": {
    "name": "ipython",
    "version": 3
   },
   "file_extension": ".py",
   "mimetype": "text/x-python",
   "name": "python",
   "nbconvert_exporter": "python",
   "pygments_lexer": "ipython3",
   "version": "3.7.4"
  }
 },
 "nbformat": 4,
 "nbformat_minor": 2
}
