{
 "cells": [
  {
   "cell_type": "code",
   "execution_count": null,
   "metadata": {},
   "outputs": [],
   "source": [
    "#QUESTION 01\n",
    "#NADIM KHAN EMAIL:Nadim.khankpk99@gmail.com\n",
    "student={\"firs_name\":\"nadim\",\n",
    "        \"last_name\":\"khan\",\"city\":\"karachi\",\"age\":23}\n",
    "print(student)\n",
    "student[\"qualification\"]=\"BE\"\n",
    "print(student)\n",
    "student[\"qualification\"]=\"ME\"\n",
    "print(student)\n",
    "del student[\"qualification\"]\n",
    "print(student)\n",
    "\n"
   ]
  },
  {
   "cell_type": "code",
   "execution_count": null,
   "metadata": {},
   "outputs": [],
   "source": [
    "#QUESTION 2\n",
    "    cities = {\n",
    "    'karachi': {\n",
    "        'country': 'pakistan',\n",
    "        'population': 2000000,\n",
    "        'weather': 'hot',\n",
    "        },\n",
    "    'islamabad': {\n",
    "        'country': 'pakistan',\n",
    "        'population': 50000,\n",
    "        ' weather': 'not hot',\n",
    "        },\n",
    "    'peshawer': {\n",
    "        'country': 'pakistan',\n",
    "        'population': 100000,\n",
    "        'weather': 'cold',\n",
    "        }\n",
    "    }\n",
    "\n",
    "for city, city_info in cities.items():\n",
    " country = city_info['country'].title()\n",
    " population = city_info['population']\n",
    "    weather = city_info['weather'].title()\n",
    "\n",
    "    print(\"\\n\" + city.title() + \" is in \" + country + \".\")\n",
    "    print(\"  It has a population of about \" + str(population) + \".\")\n",
    "    print(\"  The \" + weather + \" is in the city .\")\n",
    "\n",
    "    "
   ]
  },
  {
   "cell_type": "code",
   "execution_count": null,
   "metadata": {},
   "outputs": [],
   "source": [
    "#question 03\n",
    "age = input(\"How old are you? \")\n",
    "age = int(age)\n",
    "if age < 3:\n",
    "     print(\"Your ticket is free.\")\n",
    "elif age >= 3 and age < 12:\n",
    "     print(\"Your ticket is $10\")\n",
    "elif age > 12:\n",
    "     print(\"Your ticket is $15\")\n",
    "    "
   ]
  },
  {
   "cell_type": "code",
   "execution_count": null,
   "metadata": {},
   "outputs": [],
   "source": [
    "#question 04\n",
    "def pavorite_book(title):\n",
    "    print(title +\"is one of my avorite book\")\n",
    "    \n",
    "pavorite_book('quran')    \n",
    "    \n",
    "    "
   ]
  },
  {
   "cell_type": "code",
   "execution_count": null,
   "metadata": {},
   "outputs": [],
   "source": [
    "#QUESTION 05\n",
    "import random\n",
    "it=random.randint(0, 101)\n",
    "def main():\n",
    "    x=int(input('Guess a number one through one hundred'))\n",
    "    if x == it:\n",
    "        print(\"You got it!\")\n",
    "    elif x > it:\n",
    "        print(\"too high\")\n",
    "        main()\n",
    "    else:\n",
    "        print(\"too low\")\n",
    "        main()\n",
    "main()"
   ]
  },
  {
   "cell_type": "code",
   "execution_count": null,
   "metadata": {},
   "outputs": [],
   "source": []
  },
  {
   "cell_type": "code",
   "execution_count": null,
   "metadata": {},
   "outputs": [],
   "source": []
  }
 ],
 "metadata": {
  "kernelspec": {
   "display_name": "Python 3",
   "language": "python",
   "name": "python3"
  },
  "language_info": {
   "codemirror_mode": {
    "name": "ipython",
    "version": 3
   },
   "file_extension": ".py",
   "mimetype": "text/x-python",
   "name": "python",
   "nbconvert_exporter": "python",
   "pygments_lexer": "ipython3",
   "version": "3.7.4"
  }
 },
 "nbformat": 4,
 "nbformat_minor": 2
}
